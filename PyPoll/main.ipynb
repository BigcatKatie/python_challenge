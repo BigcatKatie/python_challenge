{
 "cells": [
  {
   "cell_type": "code",
   "execution_count": 13,
   "id": "98e9f2cb",
   "metadata": {},
   "outputs": [],
   "source": [
    "import csv\n",
    "\n",
    "# Define the file path\n",
    "file_path = 'Resources/election_data.csv'"
   ]
  },
  {
   "cell_type": "code",
   "execution_count": 14,
   "id": "067f779d",
   "metadata": {},
   "outputs": [],
   "source": [
    "# Create variables\n",
    "# Use to count the total number of votes\n",
    "total_votes=0\n",
    "\n",
    "# Use to store the number votes each candidate received\n",
    "candidate_votes = {}"
   ]
  },
  {
   "cell_type": "code",
   "execution_count": 15,
   "id": "de7999b7",
   "metadata": {},
   "outputs": [
    {
     "name": "stdout",
     "output_type": "stream",
     "text": [
      "Election Results\n",
      "--------------------------\n",
      "Total Votes: 369711\n",
      "-------------------------\n",
      "Charles Casper Stockham:23.049% (85213)\n",
      "Diana DeGette:73.812% (272892)\n",
      "Raymon Anthony Doane:3.139% (11606)\n",
      "--------------------------\n",
      "Winner: Diana DeGette\n",
      "--------------------------\n"
     ]
    }
   ],
   "source": [
    "# Read the csv files\n",
    "with open(file_path, 'r') as file:\n",
    "    reader = csv.reader(file)\n",
    "    header = next(reader)\n",
    "    \n",
    "    for row in reader:\n",
    "        total_votes += 1\n",
    "        candidate = row [2]\n",
    "        \n",
    "        if candidate not in candidate_votes:\n",
    "            candidate_votes[candidate] = 0\n",
    "        candidate_votes[candidate] += 1\n",
    "\n",
    "# Calculate the percentage of votes each candidate won\n",
    "candidate_percentage = {candidate: (votes / total_votes) * 100 for candidate, votes in candidate_votes.items()}\n",
    "\n",
    "# Determine the winner of the election based on popular vote\n",
    "winner = max(candidate_votes, key=candidate_votes.get)\n",
    "\n",
    "# Print the results\n",
    "print(\"Election Results\")\n",
    "print(\"--------------------------\")\n",
    "print(f\"Total Votes: {total_votes}\")\n",
    "print(f\"-------------------------\")\n",
    "for candidate, votes in candidate_votes.items():\n",
    "    percentage = candidate_percentage[candidate]\n",
    "    print(f\"{candidate}:{percentage:.3f}% ({votes})\")\n",
    "print(\"--------------------------\")\n",
    "print(f\"Winner: {winner}\")\n",
    "print(\"--------------------------\")"
   ]
  },
  {
   "cell_type": "code",
   "execution_count": 17,
   "id": "f340fc8b",
   "metadata": {},
   "outputs": [],
   "source": [
    "# Export the results to a text file\n",
    "with open('analysis/election_results.txt', 'w') as file:\n",
    "    file.write(\"Election Results\\n\")\n",
    "    file.write(\"------------------------\\n\")\n",
    "    file.write(f\"Total Votes: {total_votes}\\n\")\n",
    "    file.write(\"------------------------\\n\")\n",
    "    for candidate, votes in candidate_votes.items():\n",
    "        percentage = candidate_percentage[candidate]\n",
    "        file.write(f\"{candidate}: {percentage: 0.3f}% ({votes})\\n\")\n",
    "    file.write(\"--------------------\\n\")\n",
    "    file.write(f\"Winner: {winner}\\n\")\n",
    "    file.write(\"--------------------\\n\")\n",
    "    "
   ]
  }
 ],
 "metadata": {
  "kernelspec": {
   "display_name": "Python 3 (ipykernel)",
   "language": "python",
   "name": "python3"
  },
  "language_info": {
   "codemirror_mode": {
    "name": "ipython",
    "version": 3
   },
   "file_extension": ".py",
   "mimetype": "text/x-python",
   "name": "python",
   "nbconvert_exporter": "python",
   "pygments_lexer": "ipython3",
   "version": "3.11.7"
  }
 },
 "nbformat": 4,
 "nbformat_minor": 5
}
