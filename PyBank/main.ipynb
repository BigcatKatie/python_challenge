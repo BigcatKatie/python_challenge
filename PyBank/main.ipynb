{
 "cells": [
  {
   "cell_type": "code",
   "execution_count": 37,
   "id": "ea0e93a5",
   "metadata": {},
   "outputs": [],
   "source": [
    "# Import the csv module\n",
    "import csv\n",
    "# Define the file path\n",
    "file_path = 'resources/budget_data.csv'"
   ]
  },
  {
   "cell_type": "code",
   "execution_count": 38,
   "id": "785cd0dd",
   "metadata": {},
   "outputs": [],
   "source": [
    "# Initialize variables\n",
    "# To count the number of months\n",
    "total_months = 0\n",
    "# To sum up the total profit/losses\n",
    "total_profit_loss = 0\n",
    "# To keep track of profit/losses\n",
    "previous_profit_loss = None\n",
    "# To store the changes\n",
    "changes = []\n",
    "# To store the dates associated with the changes\n",
    "dates = []"
   ]
  },
  {
   "cell_type": "code",
   "execution_count": 39,
   "id": "bc517e94",
   "metadata": {},
   "outputs": [
    {
     "name": "stdout",
     "output_type": "stream",
     "text": [
      "Financial Analysis\n",
      "--------------------------\n",
      "Total Months: 86\n",
      "Total:$22564198\n",
      "Average Change: $-8311.11\n",
      "Greatest Increase in Profits: Aug-16 ($1862002)\n",
      "Greatest Decrease in profits: Feb-14 ($-1825558)\n"
     ]
    }
   ],
   "source": [
    "# Read the CSV file\n",
    "with open(file_path, 'r') as file:\n",
    "    reader = csv.reader(file)\n",
    "    header = next(reader)\n",
    "    \n",
    "    for row in reader:\n",
    "        date = row[0]\n",
    "        profit_loss = int(row[1])\n",
    "        \n",
    "        # Count the total number of months\n",
    "        total_months += 1\n",
    "        \n",
    "        # Calculate the total profit/loss\n",
    "        total_profit_loss += profit_loss\n",
    "        \n",
    "        # Calculate the changes in profit/loss\n",
    "        if previous_profit_loss is not None:\n",
    "            change = profit_loss - previous_profit_loss\n",
    "            changes.append(change)\n",
    "            dates.append(date)\n",
    "            \n",
    "        previous_profit_loss = profit_loss\n",
    "        \n",
    "# Calculate the average change\n",
    "average_change = sum(changes) / len(changes)\n",
    "\n",
    "# Find the greatest increase and decrease in profits\n",
    "greatest_increase = max(changes)\n",
    "greatest_increase_date = dates[changes.index(greatest_increase)]\n",
    "\n",
    "greatest_decrease = min(changes)\n",
    "greatest_decrease_date = dates[changes.index(greatest_decrease)]\n",
    "\n",
    "# Print the results\n",
    "print(\"Financial Analysis\")\n",
    "print(\"--------------------------\")\n",
    "print(f\"Total Months: {total_months}\")\n",
    "print(f\"Total:${total_profit_loss}\")\n",
    "print(f\"Average Change: ${average_change:.2f}\")\n",
    "print(f\"Greatest Increase in Profits: {greatest_increase_date} (${greatest_increase})\")\n",
    "print(f\"Greatest Decrease in profits: {greatest_decrease_date} (${greatest_decrease})\")"
   ]
  },
  {
   "cell_type": "code",
   "execution_count": 41,
   "id": "1e37ef16",
   "metadata": {},
   "outputs": [],
   "source": [
    "# Export the results to a text file\n",
    "with open('analysis/financial_analysis.txt','w') as file:\n",
    "    file.write(\"Financial Analysis\\n\")\n",
    "    file.write(\"----------------------------\\n\")\n",
    "    file.write(f\"Total Months: {total_months}\\n\")\n",
    "    file.write(f\"Total: ${total_profit_loss}\\n\")\n",
    "    file.write(f\"Average Change: ${average_change:.2f}\\n\")\n",
    "    file.write(f\"Greatest Increase in Profits: {greatest_increase_date} (${greatest_increase})\\n\")\n",
    "    file.write(f\"Greatest Decrease in Profits: {greatest_decrease_date} (${greatest_decrease})\\n\")\n",
    "    "
   ]
  }
 ],
 "metadata": {
  "kernelspec": {
   "display_name": "Python 3 (ipykernel)",
   "language": "python",
   "name": "python3"
  },
  "language_info": {
   "codemirror_mode": {
    "name": "ipython",
    "version": 3
   },
   "file_extension": ".py",
   "mimetype": "text/x-python",
   "name": "python",
   "nbconvert_exporter": "python",
   "pygments_lexer": "ipython3",
   "version": "3.11.7"
  }
 },
 "nbformat": 4,
 "nbformat_minor": 5
}
